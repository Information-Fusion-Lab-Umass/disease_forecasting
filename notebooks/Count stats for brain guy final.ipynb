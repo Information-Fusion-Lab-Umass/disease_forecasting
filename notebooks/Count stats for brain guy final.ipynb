{
 "cells": [
  {
   "cell_type": "code",
   "execution_count": 1,
   "metadata": {},
   "outputs": [],
   "source": [
    "import sys\n",
    "sys.path.append('..')\n",
    "from src import datagen\n",
    "from src import engine\n",
    "from src import utils\n",
    "import yaml\n",
    "from time import time\n",
    "import os\n",
    "import pandas as pd\n"
   ]
  },
  {
   "cell_type": "code",
   "execution_count": 2,
   "metadata": {},
   "outputs": [],
   "source": [
    "table = pd.read_csv('../data/TADPOLE_D1_D2_proc_norm.csv')"
   ]
  },
  {
   "cell_type": "code",
   "execution_count": 3,
   "metadata": {},
   "outputs": [],
   "source": [
    "def search_table(table,pid):\n",
    "    '''\n",
    "    Searches the table for the entries corresponding to the pid. Checks if pid label is 'Dementia'.\n",
    "    \n",
    "    Returns True is 'Dementia'\n",
    "    Returns False if not\n",
    "    '''\n",
    "    label = table[(table['PTID'] == pid) & (table['VISCODE'] =='bl')]['DX'].values[0]\n",
    "    if label == 'Dementia' or label == 'AD':\n",
    "        return True\n",
    "    else:\n",
    "        return False"
   ]
  },
  {
   "cell_type": "code",
   "execution_count": 4,
   "metadata": {},
   "outputs": [],
   "source": [
    "def pid_convert(pid):\n",
    "    '''\n",
    "    Converts pids that in the form of integers to strings in the proper format\n",
    "    \n",
    "    Example: 012368 --> 001_S_2368\n",
    "    \n",
    "             12345  --> 001_S_2345\n",
    "    '''\n",
    "    p = pid.item()\n",
    "    if 100000 < p < 1000000:\n",
    "        p = '0'+str(p)[:2] + '_S_' + str(p)[2:]\n",
    "    elif p < 100000 :\n",
    "        p = '00' + str(p)[:1] + '_S_' + str(p)[1:]\n",
    "    else:\n",
    "        p = str(p)[:3] + '_S_' + str(p)[3:]\n",
    "    return p\n",
    "\n",
    "class Trajectory_Stats:\n",
    "    def __init__(self, pid, y, y_pred, trajectory_id):\n",
    "        self.pid = pid\n",
    "        self.y = y\n",
    "        _, self.y_pred = y_pred.max(0)\n",
    "        \n",
    "        self.trajectory_id = trajectory_id\n",
    "#class Trajectories_Stats\n",
    "#    def __init__(self,pid,trajectories)\n",
    "\n",
    "class Cascade:\n",
    "    def __init__(self, trajectories):\n",
    "        '''\n",
    "        A cascade is a series of trajectories from a single patient used for tabulating results for\n",
    "        AD transition detection at the patient level.\n",
    "        '''\n",
    "        self.trajectories = trajectories\n",
    "      \n",
    "        flag = 0\n",
    "        \n",
    "        # Record the index where the transition occurs in ground truth\n",
    "        for t in trajectories:\n",
    "            if(t.y == 2):\n",
    "                flag = 1\n",
    "                self.transition_true = t.trajectory_id[-1]\n",
    "                break\n",
    "                \n",
    "        if flag == 0:\n",
    "            self.transition_true = -1\n",
    "            \n",
    "        flag = 0\n",
    "        \n",
    "        # Record the index where the transition occurs in FLARe\n",
    "        for t in trajectories:\n",
    "            if(t.y_pred == 2):\n",
    "                flag = 1\n",
    "                self.transition_flare = t.trajectory_id[-1]\n",
    "                break\n",
    "                \n",
    "        if flag == 0:\n",
    "            self.transition_flare = -1\n",
    "           \n",
    "        # Check for false positives. If transition true = -1, then the patient never develops AD\n",
    "        if(self.transition_true == -1):\n",
    "            self.type = 'No AD'\n",
    "            if(self.transition_flare != -1):\n",
    "                self.FP = True\n",
    "            else:\n",
    "                self.FP = False\n",
    "        else:\n",
    "            self.type = 'AD'\n",
    "            if(self.transition_flare == -1):\n",
    "                self.FN = True\n",
    "            else:\n",
    "                self.FN = False\n",
    "                self.diff = self.transition_flare - self.transition_true\n",
    "        \n",
    "            \n",
    "        "
   ]
  },
  {
   "cell_type": "code",
   "execution_count": 5,
   "metadata": {},
   "outputs": [
    {
     "name": "stdout",
     "output_type": "stream",
     "text": [
      "3489\n"
     ]
    }
   ],
   "source": [
    "with open('../data/stats.pickle','rb') as f:\n",
    "    output = pickle.load(f)\n",
    "print(len(output[0]['y']))"
   ]
  },
  {
   "cell_type": "code",
   "execution_count": 13,
   "metadata": {},
   "outputs": [],
   "source": [
    "def gen_patient_dict(val_dict_T):\n",
    "    patients = {}\n",
    "    num_entries = len(val_dict_T['pid'])\n",
    "    with open('../data/pids.pickle','rb') as f:\n",
    "        unique_pids = pickle.load(f)\n",
    "    patients = {}\n",
    "    \n",
    "    # initialize patient dict\n",
    "    for x in unique_pids:\n",
    "        patients[x] = []\n",
    "    \n",
    "    for i in range(num_entries):\n",
    "        pid = pid_convert(val_dict_T['pid'][i])\n",
    "        temp_traj = Trajectory_Stats(pid, val_dict_T['y'][i],val_dict_T['y_pred'][i],val_dict_T['trajectory_id'][i])\n",
    "        patients[pid].append(temp_traj)\n",
    "    return patients\n",
    "\n"
   ]
  },
  {
   "cell_type": "code",
   "execution_count": 12,
   "metadata": {},
   "outputs": [],
   "source": [
    "def create_cascade(patients, T):\n",
    "    '''\n",
    "    Takes a patient dict as input and creates cascades for a certain value of 'T'\n",
    "    '''\n",
    "    final = {}\n",
    "    for key in patients.keys():\n",
    "        # sort Trajectory objects by lexicographical order of their trajectory id's\n",
    "        patients[key].sort(key=lambda k: k.trajectory_id.tolist())\n",
    "        final[key] = []\n",
    "        for t in patients[key]:\n",
    "            if(T == 1):\n",
    "                if t.trajectory_id[0] == 0:\n",
    "                    final[key].append(t)\n",
    "            elif (T == 2):\n",
    "                if t.trajectory_id[0] == 0 and t.trajectory_id[1] == 1:\n",
    "                    final[key].append(t)\n",
    "         \n",
    "    for key in final.keys():\n",
    "        # If the patient doesn't already have AD (didn't develop within first visit)\n",
    "        #if final[key][0].y != 2:\n",
    "        cascades[key] = Cascade(final[key])\n",
    "    return cascades"
   ]
  },
  {
   "cell_type": "code",
   "execution_count": 15,
   "metadata": {
    "scrolled": true
   },
   "outputs": [],
   "source": [
    "def print_counts(cascades):\n",
    "    '''\n",
    "    Takes a dict of cascades as input and prints out counts\n",
    "    '''\n",
    "    counts = [0]*8\n",
    "    FN = 0\n",
    "    FP = 0\n",
    "    total_no_ad = 0\n",
    "    first_visit = 0\n",
    "    developed = 0\n",
    "    for key in cascades.keys():\n",
    "        cascade = cascades[key]\n",
    "        if cascade.type == 'AD':\n",
    "            if(not cascade.FN):\n",
    "                if(cascade.trajectories[0].y == 2):\n",
    "                    if(not search_table(table,key)):\n",
    "                        developed += 1\n",
    "                        counts[cascade.diff + 3] += 1\n",
    "                    else:\n",
    "                        first_visit += 1\n",
    "                else:\n",
    "                    developed += 1\n",
    "                    counts[cascade.diff + 3] += 1\n",
    "            else:\n",
    "                developed += 1\n",
    "                FN += 1\n",
    "        if cascade.type == 'No AD':\n",
    "            total_no_ad += 1\n",
    "            if cascade.FP:\n",
    "                FP += 1\n",
    "    print('Predicted within... index 2 corresponds to -1',counts)\n",
    "    print('False Negatives',FN)\n",
    "    print(\"Total people in test set who didn't develop AD\",total_no_ad)\n",
    "    print('... and of those people the number of False Positives',FP)\n",
    "    print(\"Total people who already had AD in the first visit\", first_visit)\n",
    "    total = np.sum(counts) + FN + FP + total_no_ad + already_ad + first_visit\n",
    "    print(\"Total people who developed AD:\", developed)\n",
    "    print(\"Total people\", total)\n"
   ]
  },
  {
   "cell_type": "code",
   "execution_count": 16,
   "metadata": {},
   "outputs": [
    {
     "name": "stdout",
     "output_type": "stream",
     "text": [
      "Predicted within... index 2 corresponds to -1 [0, 0, 18, 28, 0, 1, 1, 1]\n",
      "False Negatives 7\n",
      "Total people in test set who didn't develop AD 209\n",
      "... and of those people the number of False Positives 7\n",
      "Total people who already had AD in the first visit 66\n",
      "Total people who developed AD: 56\n",
      "Total people 338\n"
     ]
    }
   ],
   "source": [
    "patients = gen_patient_dict(output[0])\n",
    "cascades = create_cascade(patients,1)\n",
    "print_counts(cascades)"
   ]
  },
  {
   "cell_type": "code",
   "execution_count": null,
   "metadata": {},
   "outputs": [],
   "source": []
  },
  {
   "cell_type": "code",
   "execution_count": null,
   "metadata": {},
   "outputs": [],
   "source": []
  }
 ],
 "metadata": {
  "kernelspec": {
   "display_name": "Python 3",
   "language": "python",
   "name": "python3"
  },
  "language_info": {
   "codemirror_mode": {
    "name": "ipython",
    "version": 3
   },
   "file_extension": ".py",
   "mimetype": "text/x-python",
   "name": "python",
   "nbconvert_exporter": "python",
   "pygments_lexer": "ipython3",
   "version": "3.6.8"
  }
 },
 "nbformat": 4,
 "nbformat_minor": 2
}
