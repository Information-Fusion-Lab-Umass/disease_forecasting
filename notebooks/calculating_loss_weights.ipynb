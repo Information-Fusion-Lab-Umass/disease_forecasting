{
 "cells": [
  {
   "cell_type": "code",
   "execution_count": 10,
   "metadata": {
    "collapsed": true
   },
   "outputs": [],
   "source": [
    "import pandas as pd\n",
    "import numpy as np\n",
    "import collections"
   ]
  },
  {
   "cell_type": "code",
   "execution_count": 2,
   "metadata": {},
   "outputs": [],
   "source": [
    "data = pd.read_csv('../data/TADPOLE_D1_D2_proc_norm_all.csv')"
   ]
  },
  {
   "cell_type": "code",
   "execution_count": 19,
   "metadata": {},
   "outputs": [
    {
     "name": "stdout",
     "output_type": "stream",
     "text": [
      "('Data dims = ', (12741, 1873))\n",
      "No. of train ids = 1389, DX cols = 10226\n",
      "NL = 3278, MCI = 4443, AD = 2498\n",
      "Ratios = 1.35539963392 : 1.0 : 1.77862289832\n"
     ]
    }
   ],
   "source": [
    "print('Data dims = ', data.shape)\n",
    "train_ids = np.loadtxt('../data/patientID_train_all.txt', dtype = str)\n",
    "dxcol = data[data['PTID'].isin(train_ids)]['DX'].values\n",
    "print('No. of train ids = {}, DX cols = {}'.format(len(train_ids), len(dxcol)))\n",
    "counts = collections.Counter(dxcol)\n",
    "num_nl = counts['NL']+counts['MCI to NL']\n",
    "num_mci = counts['MCI']+counts['NL to MCI']+counts['Dementia to MCI']\n",
    "num_ad = counts['Dementia']+counts['MCI to Dementia']+counts['NL to Dementia']\n",
    "print('NL = {}, MCI = {}, AD = {}'.format(num_nl, num_mci, num_ad))\n",
    "maxval = max(num_nl, num_mci, num_ad)\n",
    "print('Ratios = {} : {} : {}'.format(maxval*1./num_nl, maxval*1./num_mci, maxval*1./num_ad))"
   ]
  }
 ],
 "metadata": {
  "kernelspec": {
   "display_name": "Python 2",
   "language": "python",
   "name": "python2"
  },
  "language_info": {
   "codemirror_mode": {
    "name": "ipython",
    "version": 2
   },
   "file_extension": ".py",
   "mimetype": "text/x-python",
   "name": "python",
   "nbconvert_exporter": "python",
   "pygments_lexer": "ipython2",
   "version": "2.7.14"
  }
 },
 "nbformat": 4,
 "nbformat_minor": 2
}
