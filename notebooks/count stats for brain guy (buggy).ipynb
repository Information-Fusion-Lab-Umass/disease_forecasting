{
 "cells": [
  {
   "cell_type": "code",
   "execution_count": 1,
   "metadata": {},
   "outputs": [],
   "source": [
    "import sys\n",
    "sys.path.append('..')\n",
    "from src import datagen\n",
    "from src import engine\n",
    "import yaml\n",
    "from time import time\n",
    "import os"
   ]
  },
  {
   "cell_type": "code",
   "execution_count": 2,
   "metadata": {},
   "outputs": [],
   "source": [
    "def pid_convert(pid):\n",
    "    '''\n",
    "    Converts pids that in the form of integers to strings in the proper format\n",
    "    \n",
    "    Example: 012368 --> 001_S_2368\n",
    "    \n",
    "             12345  --> 001_S_2345\n",
    "    '''\n",
    "    p = pid.item()\n",
    "    if 100000 < p < 1000000:\n",
    "        p = '0'+str(p)[:2] + '_S_' + str(p)[2:]\n",
    "    elif p < 100000 :\n",
    "        p = '00' + str(p)[:1] + '_S_' + str(p)[1:]\n",
    "    else:\n",
    "        p = str(p)[:3] + '_S_' + str(p)[3:]\n",
    "    return p"
   ]
  },
  {
   "cell_type": "code",
   "execution_count": 3,
   "metadata": {},
   "outputs": [],
   "source": [
    "with open('../data/datagen_val.pickle','rb') as f:\n",
    "    dgv = pickle.load(f)"
   ]
  },
  {
   "cell_type": "code",
   "execution_count": null,
   "metadata": {},
   "outputs": [],
   "source": [
    "def save_pids(val_loader,path = '../data/pids.pickle'):\n",
    "    '''\n",
    "    Input is a DataLoader object for a specific value of T where T is the number of\n",
    "    visits used for prediction\n",
    "    '''\n",
    "    pids = []\n",
    "    for x,y in val_loader:\n",
    "        #print(x.keys())\n",
    "        #print('y : ', y)\n",
    "        #print('tau : ', x['tau'])\n",
    "        #print('pid : ', x['pid'])\n",
    "        #print('traj_id : ', x['trajectory_id'])\n",
    "        #print('flag_ad : ', x['flag_ad'])\n",
    "        #print('first_occurance_ad : ', x['first_occurance_ad'])\n",
    "        #\n",
    "        for p in x['pid']:\n",
    "            p = pid_convert(p)\n",
    "            pids.append(p)\n",
    "        #pids.append(x['pid'])\n",
    "        \n",
    "    pids = np.unique(pids)\n",
    "    print(pids)\n",
    "    \n",
    "    with open(path,'wb') as f:\n",
    "        pickle.dump(pids,f)\n",
    "\n"
   ]
  },
  {
   "cell_type": "code",
   "execution_count": 8,
   "metadata": {},
   "outputs": [],
   "source": [
    "class Trajectory_Stats:\n",
    "    def __init__(self, pid, y, y_pred, trajectory_id):\n",
    "        self.pid = pid\n",
    "        self.y = y\n",
    "        self.y_pred = y_pred\n",
    "        self.trajectory_id = traj_id\n",
    "\n",
    "class Trajectories_Stats\n",
    "    def __init__(self,pid,trajectories)\n",
    "        "
   ]
  },
  {
   "cell_type": "code",
   "execution_count": null,
   "metadata": {},
   "outputs": [],
   "source": [
    "with open('../data/pids.pickle','rb') as f:\n",
    "    unique_pids = pickle.load(f)"
   ]
  },
  {
   "cell_type": "code",
   "execution_count": 4,
   "metadata": {},
   "outputs": [
    {
     "name": "stderr",
     "output_type": "stream",
     "text": [
      "/home/joie/anaconda3/envs/flare_py3/lib/python3.6/site-packages/ipykernel_launcher.py:3: YAMLLoadWarning: calling yaml.load() without Loader=... is deprecated, as the default Loader is unsafe. Please read https://msg.pyyaml.org/load for full details.\n",
      "  This is separate from the ipykernel package so we can avoid doing imports until\n",
      "../src/engine.py:24: YAMLLoadWarning: calling yaml.load() without Loader=... is deprecated, as the default Loader is unsafe. Please read https://msg.pyyaml.org/load for full details.\n",
      "  model_dict = yaml.load(f)\n",
      "873it [00:08, 99.71it/s] \n",
      "538it [00:05, 94.81it/s] \n",
      "293it [00:03, 92.85it/s] \n",
      "128it [00:01, 86.19it/s]\n",
      "35it [00:00, 74.70it/s]\n"
     ]
    }
   ],
   "source": [
    "config_file = '../configs/config_baseline.yaml'\n",
    "with open(config_file) as f:\n",
    "    config = yaml.load(f)\n",
    "\n",
    "model = engine.Engine(config['model'])\n",
    "output = model.test_stats(dgv)\n"
   ]
  },
  {
   "cell_type": "code",
   "execution_count": 25,
   "metadata": {},
   "outputs": [
    {
     "name": "stdout",
     "output_type": "stream",
     "text": [
      "3489\n"
     ]
    }
   ],
   "source": [
    "with open('../data/stats.pickle','rb') as f:\n",
    "    output = pickle.load(f)\n",
    "print(len(output[0]['y']))"
   ]
  },
  {
   "cell_type": "code",
   "execution_count": 26,
   "metadata": {},
   "outputs": [],
   "source": [
    "def gen_patient_dict(val_dict_T):\n",
    "    patients = {}\n",
    "    num_entries = len(val_dict_T['pid'])\n",
    "    with open('../data/pids.pickle','rb') as f:\n",
    "        unique_pids = pickle.load(f)\n",
    "    patients = {}\n",
    "    \n",
    "    # initialize patient dict\n",
    "    for x in unique_pids:\n",
    "        patients[x] = []\n",
    "    \n",
    "    print(val_dict_T)\n",
    "    for i in range(num_entries):\n",
    "        pid = pid_convert(val_dict_T['pid'][i])\n",
    "        temp_traj = Trajectory_Stats(pid, val_dict_T['y'][i],val_dict_T['y_pred'][i],val_dict_T['trajectory_id'][i])\n",
    "        patients[pid].append(temp_traj)\n",
    "    return patients\n",
    "\n",
    "        "
   ]
  },
  {
   "cell_type": "code",
   "execution_count": 27,
   "metadata": {},
   "outputs": [
    {
     "name": "stdout",
     "output_type": "stream",
     "text": [
      "{'y': tensor([1., 1., 2.,  ..., 1., 1., 0.]), 'y_pred': tensor([[0.0517, 0.9391, 0.0092],\n",
      "        [0.0096, 0.9900, 0.0004],\n",
      "        [0.0191, 0.5412, 0.4397],\n",
      "        ...,\n",
      "        [0.0063, 0.9896, 0.0041],\n",
      "        [0.0158, 0.9837, 0.0004],\n",
      "        [0.9981, 0.0019, 0.0001]], requires_grad=True), 'tau': tensor([1, 2, 3,  ..., 5, 1, 1]), 'pid': tensor([ 820928,  414877, 1374258,  ..., 1094380,  724445,  244158]), 'trajectory_id': tensor([[3, 4],\n",
      "        [2, 4],\n",
      "        [0, 3],\n",
      "        ...,\n",
      "        [0, 5],\n",
      "        [0, 1],\n",
      "        [0, 1]])}\n"
     ]
    }
   ],
   "source": [
    "patients = gen_patient_dict(output[0])"
   ]
  },
  {
   "cell_type": "code",
   "execution_count": 28,
   "metadata": {},
   "outputs": [
    {
     "name": "stdout",
     "output_type": "stream",
     "text": [
      "tensor([0.9991, 0.0009, 0.0000], grad_fn=<SelectBackward>)\n"
     ]
    }
   ],
   "source": [
    "print(patients['007_S_4387'][2].y_pred)"
   ]
  },
  {
   "cell_type": "code",
   "execution_count": 18,
   "metadata": {},
   "outputs": [
    {
     "ename": "RuntimeError",
     "evalue": "bool value of Tensor with more than one value is ambiguous",
     "output_type": "error",
     "traceback": [
      "\u001b[0;31m---------------------------------------------------------------------------\u001b[0m",
      "\u001b[0;31mRuntimeError\u001b[0m                              Traceback (most recent call last)",
      "\u001b[0;32m<ipython-input-18-5e5a04bdb32a>\u001b[0m in \u001b[0;36m<module>\u001b[0;34m\u001b[0m\n\u001b[1;32m      1\u001b[0m \u001b[0;32mfor\u001b[0m \u001b[0mkey\u001b[0m \u001b[0;32min\u001b[0m \u001b[0mpatients\u001b[0m\u001b[0;34m.\u001b[0m\u001b[0mkeys\u001b[0m\u001b[0;34m(\u001b[0m\u001b[0;34m)\u001b[0m\u001b[0;34m:\u001b[0m\u001b[0;34m\u001b[0m\u001b[0;34m\u001b[0m\u001b[0m\n\u001b[1;32m      2\u001b[0m     \u001b[0mtraj_list\u001b[0m \u001b[0;34m=\u001b[0m \u001b[0mpatients\u001b[0m\u001b[0;34m[\u001b[0m\u001b[0mkey\u001b[0m\u001b[0;34m]\u001b[0m\u001b[0;34m\u001b[0m\u001b[0;34m\u001b[0m\u001b[0m\n\u001b[0;32m----> 3\u001b[0;31m     \u001b[0mtraj_list\u001b[0m\u001b[0;34m.\u001b[0m\u001b[0msort\u001b[0m\u001b[0;34m(\u001b[0m\u001b[0mkey\u001b[0m\u001b[0;34m=\u001b[0m\u001b[0;32mlambda\u001b[0m \u001b[0mtraj\u001b[0m\u001b[0;34m:\u001b[0m \u001b[0mtraj\u001b[0m\u001b[0;34m.\u001b[0m\u001b[0mtrajectory_id\u001b[0m\u001b[0;34m,\u001b[0m \u001b[0mreverse\u001b[0m\u001b[0;34m=\u001b[0m\u001b[0;32mTrue\u001b[0m\u001b[0;34m)\u001b[0m\u001b[0;34m\u001b[0m\u001b[0;34m\u001b[0m\u001b[0m\n\u001b[0m\u001b[1;32m      4\u001b[0m \u001b[0;34m\u001b[0m\u001b[0m\n",
      "\u001b[0;31mRuntimeError\u001b[0m: bool value of Tensor with more than one value is ambiguous"
     ]
    }
   ],
   "source": [
    "for key in patients.keys():\n",
    "    traj_list = patients[key]\n",
    "    traj_list.sort(key=lambda traj: traj.trajectory_id, reverse=True)\n",
    "    "
   ]
  },
  {
   "cell_type": "code",
   "execution_count": null,
   "metadata": {},
   "outputs": [],
   "source": []
  }
 ],
 "metadata": {
  "kernelspec": {
   "display_name": "Python 3",
   "language": "python",
   "name": "python3"
  },
  "language_info": {
   "codemirror_mode": {
    "name": "ipython",
    "version": 3
   },
   "file_extension": ".py",
   "mimetype": "text/x-python",
   "name": "python",
   "nbconvert_exporter": "python",
   "pygments_lexer": "ipython3",
   "version": "3.6.8"
  }
 },
 "nbformat": 4,
 "nbformat_minor": 2
}
