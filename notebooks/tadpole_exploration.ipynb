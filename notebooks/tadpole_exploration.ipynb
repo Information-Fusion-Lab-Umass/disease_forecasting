{
 "cells": [
  {
   "cell_type": "code",
   "execution_count": 21,
   "metadata": {
    "collapsed": true
   },
   "outputs": [],
   "source": [
    "import numpy as np\n",
    "import pandas as pd\n",
    "from tqdm import tqdm"
   ]
  },
  {
   "cell_type": "markdown",
   "metadata": {},
   "source": [
    "### Load TADPOLE data"
   ]
  },
  {
   "cell_type": "code",
   "execution_count": 9,
   "metadata": {
    "collapsed": true
   },
   "outputs": [],
   "source": [
    "input_path = '../data/TADPOLE_D1_D2.csv'\n",
    "data = pd.read_csv(input_path, dtype = object)"
   ]
  },
  {
   "cell_type": "markdown",
   "metadata": {},
   "source": [
    "### Basic data stats"
   ]
  },
  {
   "cell_type": "code",
   "execution_count": 11,
   "metadata": {},
   "outputs": [
    {
     "name": "stdout",
     "output_type": "stream",
     "text": [
      "Number of patients = 1737, entries = 12741\n"
     ]
    }
   ],
   "source": [
    "print('Number of patients = {}, entries = {}'.format(\\\n",
    "            len(set(data['PTID'].values)), len(data)))"
   ]
  },
  {
   "cell_type": "markdown",
   "metadata": {},
   "source": [
    "### Available visits in TADPOLE data\n"
   ]
  },
  {
   "cell_type": "code",
   "execution_count": 12,
   "metadata": {},
   "outputs": [
    {
     "name": "stdout",
     "output_type": "stream",
     "text": [
      "('Number of available visits : ', 22)\n",
      "('Available Visit IDs : ', ['bl', 'm03', 'm06', 'm102', 'm108', 'm114', 'm12', 'm120', 'm18', 'm24', 'm30', 'm36', 'm42', 'm48', 'm54', 'm60', 'm66', 'm72', 'm78', 'm84', 'm90', 'm96'])\n"
     ]
    }
   ],
   "source": [
    "visits = sorted(list(set(data['VISCODE'].values)))\n",
    "print('Number of available visits : ', len(visits))\n",
    "print('Available Visit IDs : ', visits)"
   ]
  },
  {
   "cell_type": "markdown",
   "metadata": {},
   "source": [
    "### Dictionary to map visit to VISNUM"
   ]
  },
  {
   "cell_type": "code",
   "execution_count": 15,
   "metadata": {},
   "outputs": [
    {
     "name": "stdout",
     "output_type": "stream",
     "text": [
      "{'m102': 18, 'm120': 21, 'm90': 16, 'm108': 19, 'm96': 17, 'm12': 3, 'm18': 4, 'm54': 10, 'm36': 7, 'm78': 14, 'm30': 6, 'm72': 13, 'bl': 0, 'm114': 20, 'm84': 15, 'm06': 2, 'm03': 1, 'm60': 11, 'm48': 9, 'm66': 12, 'm24': 5, 'm42': 8}\n"
     ]
    }
   ],
   "source": [
    "visit_codes = ['bl', 'm03', 'm06', 'm12', 'm18', 'm24', \n",
    "               'm30', 'm36', 'm42', 'm48', 'm54', 'm60', \n",
    "               'm66', 'm72', 'm78', 'm84', 'm90', 'm96', \n",
    "               'm102', 'm108', 'm114', 'm120']\n",
    "visit_id = {key : i for i, key in enumerate(visit_codes)}\n",
    "print(visit_id)"
   ]
  },
  {
   "cell_type": "markdown",
   "metadata": {},
   "source": [
    "### Split patients for train and test"
   ]
  },
  {
   "cell_type": "code",
   "execution_count": 19,
   "metadata": {},
   "outputs": [
    {
     "name": "stdout",
     "output_type": "stream",
     "text": [
      "Number of patients = 1737\n",
      "Number of patients in train data = 1389\n",
      "Number of patients in test data = 348\n"
     ]
    }
   ],
   "source": [
    "patient_ids = list(set(data['PTID'].values))\n",
    "num_patients = len(patient_ids)\n",
    "split = 0.8\n",
    "num_train = int(split*num_patients)\n",
    "train_ids = patient_ids[:num_train]\n",
    "test_ids = patient_ids[num_train:]\n",
    "\n",
    "print('Number of patients = {}'.format(num_patients))\n",
    "print('Number of patients in train data = {}'.format(num_train))\n",
    "print('Number of patients in test data = {}'.format(num_patients - num_train))\n",
    "\n",
    "with open('../data/patientID_train_all.txt', 'w') as f:\n",
    "    np.savetxt(f, train_ids, fmt = '%s', delimiter = '\\n')\n",
    "with open('../data/patientID_test_all.txt', 'w') as f:\n",
    "    np.savetxt(f, test_ids, fmt = '%s', delimiter = '\\n')"
   ]
  },
  {
   "cell_type": "markdown",
   "metadata": {},
   "source": [
    "### Preprocess data \n",
    "- Add VISNUM column.  \n",
    "- Retain only rows with the required visit ids.  \n",
    "- Impute missing feature data. Remove features with no values.  \n",
    "- Fill NAN feature values with column means.  \n",
    "- "
   ]
  },
  {
   "cell_type": "code",
   "execution_count": 22,
   "metadata": {},
   "outputs": [
    {
     "name": "stderr",
     "output_type": "stream",
     "text": [
      "100%|██████████| 1908/1908 [05:01<00:00,  6.33it/s]\n",
      "100%|██████████| 1872/1872 [01:26<00:00, 21.69it/s]\n"
     ]
    }
   ],
   "source": [
    "def preprocess_adni(input_path, output_path):\n",
    "    data = pd.read_csv(input_path, dtype = object)\n",
    "    \n",
    "    # Add VISNUM column\n",
    "    visit_codes = ['bl', 'm03', 'm06', 'm12', 'm18', 'm24', \n",
    "               'm30', 'm36', 'm42', 'm48', 'm54', 'm60', \n",
    "               'm66', 'm72', 'm78', 'm84', 'm90', 'm96', \n",
    "               'm102', 'm108', 'm114', 'm120']\n",
    "    visit_id = {key : i for i, key in enumerate(visit_codes)}\n",
    "    data['VISNUM'] = data['VISCODE'].apply(lambda x: visit_id[x] \\\n",
    "            if x in visit_id else -1)\n",
    "\n",
    "    # Retain only rows with required visit_id\n",
    "    data = data.loc[data['VISNUM'] != -1]\n",
    "\n",
    "    # Impute missing image feature data  \n",
    "    data.sort_values(by = ['PTID', 'VISNUM'], inplace = True)\n",
    "    data = data.groupby('PTID').ffill()\n",
    "    all_nan_cols = []\n",
    "    for name in tqdm(data.columns.values):\n",
    "        if('UCSFFSX' in name or 'UCSFFSL' in name):\n",
    "            if(name.startswith('ST') and 'STATUS' not in name):\n",
    "                data[name] = data[name].apply(pd.to_numeric, errors = 'coerce')\n",
    "                data[name].fillna(data[name].mean(), inplace=True)                \n",
    "                if np.sum(np.isnan(data[name].values)) > 0: \n",
    "                    all_nan_cols.append(name)\n",
    "    data = data.drop(all_nan_cols, axis = 1)    \n",
    "    \n",
    "    # Fill Nan values of features with mean\n",
    "    cols = ['ADAS13', 'MMSE', 'ADAS11', 'RAVLT_immediate', \\\n",
    "            'RAVLT_forgetting', 'AGE', 'CDRSB']\n",
    "    for col in cols:\n",
    "        data[col] = data[col].apply(pd.to_numeric, errors = 'coerce')\n",
    "        data[col].fillna(data[col].mean(), inplace=True)\n",
    "        \n",
    "    # Fill Nan values of APOE4 gene with 0\n",
    "    data['APOE4'] = data['APOE4'].apply(pd.to_numeric, errors = 'coerce')\n",
    "    data['APOE4'].fillna(0, inplace=True)\n",
    "\n",
    "    # Normalize the image feature columns\n",
    "    train_ids = np.loadtxt('../data/patientID_train_all.txt', dtype = str)\n",
    "    for name in tqdm(data.columns.values):\n",
    "        if('UCSFFSX' in name or 'UCSFFSL' in name):\n",
    "            if(name.startswith('ST') and 'STATUS' not in name):\n",
    "                featcol = data[data['PTID'].isin(train_ids)][name].values\n",
    "                mean, std = np.mean(featcol), np.std(featcol)\n",
    "                data[name] = (data[name] - mean)/(std + 1e-4)\n",
    "#                 print(len(featcol), mean, std)\n",
    "       \n",
    "    # Save processed Dataframe to output_path\n",
    "    data.to_csv(output_path)\n",
    "\n",
    "if __name__ == '__main__':\n",
    "    input_path = '../data/TADPOLE_D1_D2.csv'\n",
    "    output_path = '../data/TADPOLE_D1_D2_proc_norm_all.csv'\n",
    "    preprocess_adni(input_path, output_path)"
   ]
  },
  {
   "cell_type": "markdown",
   "metadata": {},
   "source": [
    "### Analyze preprocessed data"
   ]
  },
  {
   "cell_type": "code",
   "execution_count": 24,
   "metadata": {},
   "outputs": [
    {
     "name": "stderr",
     "output_type": "stream",
     "text": [
      "100%|██████████| 1873/1873 [00:00<00:00, 1116851.21it/s]"
     ]
    },
    {
     "name": "stdout",
     "output_type": "stream",
     "text": [
      "(12741, 1873)\n",
      "Number of image features = 656\n"
     ]
    },
    {
     "name": "stderr",
     "output_type": "stream",
     "text": [
      "\n"
     ]
    }
   ],
   "source": [
    "data = pd.read_csv('../data/TADPOLE_D1_D2_proc_norm_all.csv')\n",
    "print(data.shape)\n",
    "num_features = 0\n",
    "for name in tqdm(data.columns.values):\n",
    "        if('UCSFFSX' in name or 'UCSFFSL' in name):\n",
    "            if(name.startswith('ST') and 'STATUS' not in name):\n",
    "                num_features += 1\n",
    "print('Number of image features = {}'.format(num_features))\n",
    "print('TODO : Number of entries for each visit id :')\n"
   ]
  }
 ],
 "metadata": {
  "kernelspec": {
   "display_name": "Python 2",
   "language": "python",
   "name": "python2"
  },
  "language_info": {
   "codemirror_mode": {
    "name": "ipython",
    "version": 2
   },
   "file_extension": ".py",
   "mimetype": "text/x-python",
   "name": "python",
   "nbconvert_exporter": "python",
   "pygments_lexer": "ipython2",
   "version": "2.7.14"
  }
 },
 "nbformat": 4,
 "nbformat_minor": 2
}
